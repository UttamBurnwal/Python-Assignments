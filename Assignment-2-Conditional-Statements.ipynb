{
 "cells": [
  {
   "cell_type": "code",
   "execution_count": 1,
   "id": "ee16c423",
   "metadata": {},
   "outputs": [
    {
     "name": "stdout",
     "output_type": "stream",
     "text": [
      "Enter the value of a: 12\n",
      "Enter the value of b: 17\n",
      "Enter the value of c: 17\n",
      "b is equal to c and is greater than a\n"
     ]
    }
   ],
   "source": [
    "# 1. Take three user inputs and print the greatest number from those inputs using if-else \n",
    "# condition. Edge cases if any, should also be handled\n",
    "\n",
    "a = int(input('Enter the value of a: '))\n",
    "b = int(input('Enter the value of b: '))\n",
    "c = int(input('Enter the value of c: '))\n",
    "if a == b == c:\n",
    "    print('a is equal to b equal to c')\n",
    "elif a > b and a > c:\n",
    "    print('a is greater than b and c')\n",
    "elif b > a and b> c:\n",
    "    print('b is greater than a and c')\n",
    "elif c > a and c> b:\n",
    "    print('c is greater than a and b')\n",
    "elif a == b:\n",
    "    if a > c:\n",
    "        print('a is equal to b and is greater than c')\n",
    "    else:\n",
    "        print('c is greater than a and b')\n",
    "elif b == c:\n",
    "    if b > a:\n",
    "        print('b is equal to c and is greater than a')\n",
    "    else:\n",
    "        print('a is greater than b and c')\n",
    "elif a == c:\n",
    "    if a > b:\n",
    "        print('a is equal to c and is greater than b')\n",
    "    else:\n",
    "        print('b is greater than a and c')       \n"
   ]
  },
  {
   "cell_type": "code",
   "execution_count": null,
   "id": "474a7bb9",
   "metadata": {},
   "outputs": [],
   "source": []
  },
  {
   "cell_type": "code",
   "execution_count": null,
   "id": "bae28b7c",
   "metadata": {},
   "outputs": [],
   "source": []
  }
 ],
 "metadata": {
  "kernelspec": {
   "display_name": "Python 3",
   "language": "python",
   "name": "python3"
  },
  "language_info": {
   "codemirror_mode": {
    "name": "ipython",
    "version": 3
   },
   "file_extension": ".py",
   "mimetype": "text/x-python",
   "name": "python",
   "nbconvert_exporter": "python",
   "pygments_lexer": "ipython3",
   "version": "3.8.8"
  }
 },
 "nbformat": 4,
 "nbformat_minor": 5
}

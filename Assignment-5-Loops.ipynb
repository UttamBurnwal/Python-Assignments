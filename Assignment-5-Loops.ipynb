{
 "cells": [
  {
   "cell_type": "code",
   "execution_count": 41,
   "id": "74b0ea5f",
   "metadata": {},
   "outputs": [
    {
     "name": "stdout",
     "output_type": "stream",
     "text": [
      "Enter the number of values you want in an array: 6\n",
      "Enter the values in the array: 2\n",
      "Enter the values in the array: 3\n",
      "Enter the values in the array: 4\n",
      "Enter the values in the array: 5\n",
      "Enter the values in the array: 6\n",
      "Enter the values in the array: 7\n",
      "[2, 3, 4, 5, 6, 7]\n",
      "Prime numbers in the array are [2, 3, 5, 7]\n"
     ]
    }
   ],
   "source": [
    "# Create an array that is having user defined inputs and with the help of for loop, \n",
    "# fetch all the prime numbers and print the numbers.\n",
    "\n",
    "list1 = []\n",
    "n = int(input('Enter the number of values you want in an array: '))\n",
    "for i in range(n):\n",
    "    ele = int(input('Enter the values in the array: '))\n",
    "    list1.append(ele)\n",
    "print(list1)\n",
    "\n",
    "list2=[]\n",
    "for n in list1:    \n",
    "    if n > 1:\n",
    "        for a in range(2, n):\n",
    "            if (n % a) == 0:\n",
    "                pass\n",
    "                break\n",
    "        else:\n",
    "            list2.append(n)\n",
    "    else:\n",
    "        pass\n",
    "print(f'Prime numbers in the array are {list2}')"
   ]
  },
  {
   "cell_type": "code",
   "execution_count": null,
   "id": "8712389b",
   "metadata": {},
   "outputs": [],
   "source": []
  }
 ],
 "metadata": {
  "kernelspec": {
   "display_name": "Python 3",
   "language": "python",
   "name": "python3"
  },
  "language_info": {
   "codemirror_mode": {
    "name": "ipython",
    "version": 3
   },
   "file_extension": ".py",
   "mimetype": "text/x-python",
   "name": "python",
   "nbconvert_exporter": "python",
   "pygments_lexer": "ipython3",
   "version": "3.8.8"
  }
 },
 "nbformat": 4,
 "nbformat_minor": 5
}

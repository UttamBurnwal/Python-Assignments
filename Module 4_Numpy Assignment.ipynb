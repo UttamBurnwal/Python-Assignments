{
 "cells": [
  {
   "cell_type": "code",
   "execution_count": 1,
   "id": "0cc8f5a9",
   "metadata": {},
   "outputs": [],
   "source": [
    "import numpy as np"
   ]
  },
  {
   "cell_type": "code",
   "execution_count": 2,
   "id": "ecda8b59",
   "metadata": {},
   "outputs": [
    {
     "name": "stdout",
     "output_type": "stream",
     "text": [
      "[[5 5 5]\n",
      " [5 5 5]\n",
      " [5 5 5]]\n"
     ]
    }
   ],
   "source": [
    "# 1. Create a function that takes dimensions as tuples e.g.(3, 3) and a numeric value and returns a\n",
    "# Numpy array of the given dimension filled with the given value e.g.: solve((3, 3), 5)\n",
    "\n",
    "def create_array(shape, value):\n",
    "    arr = np.full(shape, value)\n",
    "    print(arr)\n",
    "create_array((3,3),5)"
   ]
  },
  {
   "cell_type": "code",
   "execution_count": 3,
   "id": "72ba44ce",
   "metadata": {},
   "outputs": [
    {
     "name": "stdout",
     "output_type": "stream",
     "text": [
      "[[1 2 3]\n",
      " [2 3 4]\n",
      " [4 4 5]]\n",
      "[ 7  9 12]\n"
     ]
    }
   ],
   "source": [
    "# 2. Create a method that takes n Numpy arrays of same dimensions sums them and return the answer.\n",
    "\n",
    "def sum_arrays(list1):\n",
    "    s_a = np.array(list1)\n",
    "    print(s_a)\n",
    "    s_n_a = np.sum(s_a,axis = 0)\n",
    "    print(s_n_a)\n",
    "list1 = [[1,2,3],[2,3,4],[4,4,5]]\n",
    "sum_arrays(list1)"
   ]
  },
  {
   "cell_type": "code",
   "execution_count": 4,
   "id": "3bd57b88",
   "metadata": {},
   "outputs": [
    {
     "name": "stdout",
     "output_type": "stream",
     "text": [
      "[[ 1  2  3]\n",
      " [ 4  5  6]\n",
      " [ 7  8  9]\n",
      " [10 11 12]]\n"
     ]
    },
    {
     "data": {
      "text/plain": [
       "array([[1, 2],\n",
       "       [4, 5]])"
      ]
     },
     "execution_count": 4,
     "metadata": {},
     "output_type": "execute_result"
    }
   ],
   "source": [
    "# 3. Given a 2 D Array of N X M Dimension, Write a function that accepts this array as well as two\n",
    "# numbers N and M. The method should return the top-left N X M sub matrix.\n",
    "\n",
    "def top_left_matrix(n_m_array):\n",
    "    arr = n_m_array[:2,:2]\n",
    "    return arr\n",
    "a = np.array([[1,2,3],[4,5,6],[7,8,9],[10,11,12]])\n",
    "print(a)\n",
    "top_left_matrix(a)"
   ]
  },
  {
   "cell_type": "code",
   "execution_count": 5,
   "id": "27102b56",
   "metadata": {},
   "outputs": [
    {
     "name": "stdout",
     "output_type": "stream",
     "text": [
      "[[ 1  2  3]\n",
      " [ 4  5  6]\n",
      " [ 7  8  9]\n",
      " [10 11 12]]\n"
     ]
    },
    {
     "data": {
      "text/plain": [
       "array([[ 8,  9],\n",
       "       [11, 12]])"
      ]
     },
     "execution_count": 5,
     "metadata": {},
     "output_type": "execute_result"
    }
   ],
   "source": [
    "# 4. Given a 2 D Array of N X M Dimension, Write a function that accepts this array as well as two\n",
    "# numbers N and M The method should return the bottom-right N X M sub matrix\n",
    "\n",
    "def top_right_matrix(n_m_array):\n",
    "    i, j = n_m_array.shape\n",
    "    arr = n_m_array[(i-2):i,(j-2):(j+1)]\n",
    "    return arr\n",
    "b = np.array([[1,2,3],[4,5,6],[7,8,9],[10,11,12]])\n",
    "print(b)\n",
    "top_right_matrix(b)"
   ]
  },
  {
   "cell_type": "code",
   "execution_count": 6,
   "id": "48516ac0",
   "metadata": {},
   "outputs": [
    {
     "data": {
      "text/plain": [
       "{'mean': 3.5, 'std_dev': 1.707825127659933}"
      ]
     },
     "execution_count": 6,
     "metadata": {},
     "output_type": "execute_result"
    }
   ],
   "source": [
    "# 5. Given a 1 D Numpy Array. Write a function that accepts this array as parameters. The method\n",
    "# should return a dictionary with 'mean' and 'std_dev' as key and array's mean and array's\n",
    "# standard deviation as values\n",
    "a = np.array([1,2,3,4,5,6])\n",
    "def mean_std(array):\n",
    "    return {'mean': array.mean(),\n",
    "            'std_dev': array.std()\n",
    "        }\n",
    "mean_std(a)"
   ]
  }
 ],
 "metadata": {
  "kernelspec": {
   "display_name": "Python 3",
   "language": "python",
   "name": "python3"
  },
  "language_info": {
   "codemirror_mode": {
    "name": "ipython",
    "version": 3
   },
   "file_extension": ".py",
   "mimetype": "text/x-python",
   "name": "python",
   "nbconvert_exporter": "python",
   "pygments_lexer": "ipython3",
   "version": "3.8.8"
  }
 },
 "nbformat": 4,
 "nbformat_minor": 5
}

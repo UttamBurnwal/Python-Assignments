{
 "cells": [
  {
   "cell_type": "markdown",
   "id": "63797f1e",
   "metadata": {},
   "source": [
    "### 1. Create 1st tuple with values -> (10,20,30), 2nd tuple with values -> (40,50,60). \n",
    "#### a. Concatenate the two tuples and store it in “t_combine”\n",
    "#### b. Repeat the elements of “t_combine” 3 times \n",
    "#### c. Access the 3rd element from “t_combine”\n",
    "#### d. Access the first three elements from “t_combine”\n",
    "#### e. Access the last three elements from “t_combine”\n",
    " \n",
    "\n"
   ]
  },
  {
   "cell_type": "code",
   "execution_count": 4,
   "id": "99df9944",
   "metadata": {},
   "outputs": [
    {
     "data": {
      "text/plain": [
       "(10, 20, 30, 40, 50, 60)"
      ]
     },
     "execution_count": 4,
     "metadata": {},
     "output_type": "execute_result"
    }
   ],
   "source": [
    "t_1, t_2 = (10,20,30), (40,50,60)\n",
    "t_combine = t_1 + t_2\n",
    "t_combine"
   ]
  },
  {
   "cell_type": "code",
   "execution_count": 5,
   "id": "c58d2762",
   "metadata": {},
   "outputs": [
    {
     "data": {
      "text/plain": [
       "(10, 20, 30, 40, 50, 60, 10, 20, 30, 40, 50, 60, 10, 20, 30, 40, 50, 60)"
      ]
     },
     "execution_count": 5,
     "metadata": {},
     "output_type": "execute_result"
    }
   ],
   "source": [
    "t_combine*3"
   ]
  },
  {
   "cell_type": "code",
   "execution_count": 35,
   "id": "fb0830fd",
   "metadata": {},
   "outputs": [
    {
     "data": {
      "text/plain": [
       "30"
      ]
     },
     "execution_count": 35,
     "metadata": {},
     "output_type": "execute_result"
    }
   ],
   "source": [
    "t_combine[2]"
   ]
  },
  {
   "cell_type": "code",
   "execution_count": 37,
   "id": "ebe35e43",
   "metadata": {},
   "outputs": [
    {
     "data": {
      "text/plain": [
       "(10, 20, 30)"
      ]
     },
     "execution_count": 37,
     "metadata": {},
     "output_type": "execute_result"
    }
   ],
   "source": [
    "t_combine[:3]"
   ]
  },
  {
   "cell_type": "code",
   "execution_count": 38,
   "id": "0a3a1783",
   "metadata": {},
   "outputs": [
    {
     "data": {
      "text/plain": [
       "(40, 50, 60)"
      ]
     },
     "execution_count": 38,
     "metadata": {},
     "output_type": "execute_result"
    }
   ],
   "source": [
    "t_combine[-3:]"
   ]
  },
  {
   "cell_type": "markdown",
   "id": "1147c061",
   "metadata": {},
   "source": [
    "### 2. Create a list ‘my_list’ with these elements: \n",
    "#### a. First element is a tuple with values 1,2,3 \n",
    "#### b. Second element is a tuple with values “a”,”b”,”c”\n",
    "#### c. Third element is a tuple with values True,False"
   ]
  },
  {
   "cell_type": "code",
   "execution_count": 40,
   "id": "2741b0c6",
   "metadata": {},
   "outputs": [
    {
     "data": {
      "text/plain": [
       "[(1, 2, 3), ('a', 'b', 'c'), (True, False)]"
      ]
     },
     "execution_count": 40,
     "metadata": {},
     "output_type": "execute_result"
    }
   ],
   "source": [
    "my_list = [(1,2,3), ('a', 'b', 'c'), (True,False)]\n",
    "my_list"
   ]
  },
  {
   "cell_type": "markdown",
   "id": "e4f14332",
   "metadata": {},
   "source": [
    "### 3. Append a new tuple – (1,’a’,True) to ‘my_list’\n",
    "#### a. Append a new list – *“sparta”,123+ to my_list "
   ]
  },
  {
   "cell_type": "code",
   "execution_count": 49,
   "id": "32fff47d",
   "metadata": {},
   "outputs": [
    {
     "data": {
      "text/plain": [
       "[(1, 2, 3), ('a', 'b', 'c'), (True, False), (1, 'a', True)]"
      ]
     },
     "execution_count": 49,
     "metadata": {},
     "output_type": "execute_result"
    }
   ],
   "source": [
    "my_list.append((1,'a',True))\n",
    "my_list"
   ]
  },
  {
   "cell_type": "code",
   "execution_count": 54,
   "id": "1038e8f7",
   "metadata": {},
   "outputs": [
    {
     "data": {
      "text/plain": [
       "[(1, 2, 3), ('a', 'b', 'c'), (True, False), (1, 'a', True), ('sparta', 123)]"
      ]
     },
     "execution_count": 54,
     "metadata": {},
     "output_type": "execute_result"
    }
   ],
   "source": [
    "my_list.append(('sparta', 123))\n",
    "my_list"
   ]
  },
  {
   "cell_type": "markdown",
   "id": "af73b450",
   "metadata": {},
   "source": [
    "### 4. Create a dictionary ‘fruit’ where: \n",
    "#### a. The first key is ‘Fruit’ and the values are (“Apple”,”Banana”,”Mango”,”Guava”)\n",
    "#### b. The second key is ‘Cost’ and the values are (85,54,120,70) \n",
    "#### c. Extract all the keys from ‘fruit’\n",
    "#### d. Extract all the values from ‘fruit’\n"
   ]
  },
  {
   "cell_type": "code",
   "execution_count": 57,
   "id": "2f697d46",
   "metadata": {},
   "outputs": [
    {
     "name": "stdout",
     "output_type": "stream",
     "text": [
      "['Apple', 'Banana', 'Mango', 'Guava']\n",
      "[85, 54, 120, 70]\n"
     ]
    }
   ],
   "source": [
    "fruit = {\n",
    "    'Fruit': ['Apple', 'Banana', 'Mango', 'Guava'],\n",
    "    'Cost': [85,54,120,70]\n",
    "}\n",
    "print(fruit['Fruit'])\n",
    "print(fruit['Cost'])"
   ]
  },
  {
   "cell_type": "markdown",
   "id": "01541a41",
   "metadata": {},
   "source": [
    "### 5. Create a set named ‘my_set’ with values (1,1,”a”,”a”,True,True) and print the result"
   ]
  },
  {
   "cell_type": "code",
   "execution_count": 58,
   "id": "280b26ea",
   "metadata": {},
   "outputs": [
    {
     "data": {
      "text/plain": [
       "{1, 'a'}"
      ]
     },
     "execution_count": 58,
     "metadata": {},
     "output_type": "execute_result"
    }
   ],
   "source": [
    "my_set = {1,1,'a','a',True,True}\n",
    "my_set"
   ]
  },
  {
   "cell_type": "code",
   "execution_count": null,
   "id": "49472c9d",
   "metadata": {},
   "outputs": [],
   "source": []
  }
 ],
 "metadata": {
  "kernelspec": {
   "display_name": "Python 3",
   "language": "python",
   "name": "python3"
  },
  "language_info": {
   "codemirror_mode": {
    "name": "ipython",
    "version": 3
   },
   "file_extension": ".py",
   "mimetype": "text/x-python",
   "name": "python",
   "nbconvert_exporter": "python",
   "pygments_lexer": "ipython3",
   "version": "3.8.8"
  }
 },
 "nbformat": 4,
 "nbformat_minor": 5
}

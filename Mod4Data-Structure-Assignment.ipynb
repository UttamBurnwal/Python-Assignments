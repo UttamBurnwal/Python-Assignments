{
 "cells": [
  {
   "cell_type": "code",
   "execution_count": 1,
   "id": "9f0e16f1",
   "metadata": {},
   "outputs": [
    {
     "name": "stdout",
     "output_type": "stream",
     "text": [
      "[10, 20, 30, 'apple', True, 8.1]\n",
      "[10, 20, 30, 'apple', True, 8.1, 30, 40]\n",
      "[40, 30, 8.1, True, 'apple', 30, 20, 10]\n"
     ]
    }
   ],
   "source": [
    "# 1. Create a list named ‘myList’ that is having the following elements: 10,20,30,’apple’, True, 8.10.\n",
    "myList = [10,20,30,'apple', True, 8.10]\n",
    "print(myList)\n",
    "# a. Now in the ‘myList’, append these values: 30,40 \n",
    "myList.append(30)\n",
    "myList.append(40)\n",
    "print(myList)\n",
    "# b. After that reverse the elements of the ‘myList’ and store that in ‘reversedList\n",
    "reversedList = myList[::-1]\n",
    "print(reversedList)"
   ]
  },
  {
   "cell_type": "code",
   "execution_count": 2,
   "id": "511111e3",
   "metadata": {},
   "outputs": [
    {
     "name": "stdout",
     "output_type": "stream",
     "text": [
      "{'data': 1, 'information': 2, 'text': 3}\n",
      "{'data': 1, 'information': 2}\n",
      "{'data': 1, 'information': 2, 'features': 3}\n",
      "1\n"
     ]
    }
   ],
   "source": [
    "# 2. Create a dictonary with key values as 1,2,3 and the values as ‘data’,’information’, and ‘text’.\n",
    "dict1 = {'data': 1, 'information': 2,'text': 3}\n",
    "print(dict1)\n",
    "# a. After that eliminate the ‘text’ value form the dictonary.\n",
    "dict1.pop('text')\n",
    "print(dict1)\n",
    "# b. Add ‘features’ in the dictonary.\n",
    "dict1['features'] = 3\n",
    "print(dict1)\n",
    "# c. Fetch the ‘data’ element from the dictonary and display it in the output.\n",
    "print(dict1['data'])"
   ]
  },
  {
   "cell_type": "code",
   "execution_count": 3,
   "id": "54be1989",
   "metadata": {},
   "outputs": [
    {
     "data": {
      "text/plain": [
       "(1, 2, 3, 'apple', 'mango')"
      ]
     },
     "execution_count": 3,
     "metadata": {},
     "output_type": "execute_result"
    }
   ],
   "source": [
    "# 3. Create a tuple and add these elements 1,2,3,apple,mango in 'my_tuple'\n",
    "\n",
    "my_tuple = (1,2,3,'apple','mango')\n",
    "my_tuple"
   ]
  },
  {
   "cell_type": "code",
   "execution_count": 4,
   "id": "89eed716",
   "metadata": {},
   "outputs": [
    {
     "name": "stdout",
     "output_type": "stream",
     "text": [
      "(10, 20, 30, 40, 50)\n",
      "10\n",
      "(1, 2, 3, 'apple', 'mango', 10, 20, 30, 40, 50)\n",
      "(1, 2, 3, 'apple', 'mango', 1, 2, 3, 'apple', 'mango')\n"
     ]
    }
   ],
   "source": [
    "# 4. Create another tuple named numeric_tuple consisting of only integer values 10,20,30,40,50\n",
    "numeric_tuple = (10,20,30,40,50)\n",
    "print(numeric_tuple)\n",
    "# a. Find the minimum value from the numeric_tuple.\n",
    "print(min(numeric_tuple))\n",
    "# b. Concatenate my_tuple with numeric_tuple and store the result in r1.\n",
    "r1 = my_tuple+numeric_tuple\n",
    "print(r1)\n",
    "# c. Duplicate the tuple named my_tuple 2 times and store that in ‘newdupli’.\n",
    "newdupli = my_tuple *2\n",
    "print(newdupli)"
   ]
  },
  {
   "cell_type": "code",
   "execution_count": 5,
   "id": "1adc88ad",
   "metadata": {},
   "outputs": [
    {
     "name": "stdout",
     "output_type": "stream",
     "text": [
      "{1, 2, 3, 4, 5, 6, 7}\n",
      "{1, 2, 3}\n",
      "{4, 5}\n"
     ]
    }
   ],
   "source": [
    "# 5. Create 2 sets with name set1 and set2, where set1 contains {1,2,3,4,5} \n",
    "# and set2 to contains{2,3,7,6,1}\n",
    "\n",
    "set1 = {1,2,3,4,5}\n",
    "set2 = {2,3,7,6,1}\n",
    "\n",
    "# a. set1 union set2\n",
    "print(set1.union(set2))\n",
    "# b. set1 intersection set2\n",
    "print(set1.intersection(set2))\n",
    "# c. set1 difference set2\n",
    "print(set1.difference(set2))"
   ]
  },
  {
   "cell_type": "code",
   "execution_count": null,
   "id": "8495ef02",
   "metadata": {},
   "outputs": [],
   "source": []
  }
 ],
 "metadata": {
  "kernelspec": {
   "display_name": "Python 3",
   "language": "python",
   "name": "python3"
  },
  "language_info": {
   "codemirror_mode": {
    "name": "ipython",
    "version": 3
   },
   "file_extension": ".py",
   "mimetype": "text/x-python",
   "name": "python",
   "nbconvert_exporter": "python",
   "pygments_lexer": "ipython3",
   "version": "3.8.8"
  }
 },
 "nbformat": 4,
 "nbformat_minor": 5
}

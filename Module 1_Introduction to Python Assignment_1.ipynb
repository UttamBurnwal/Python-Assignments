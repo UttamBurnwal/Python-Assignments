{
 "cells": [
  {
   "cell_type": "code",
   "execution_count": 1,
   "id": "63cea829",
   "metadata": {},
   "outputs": [
    {
     "data": {
      "text/plain": [
       "[1, 4, 9, 16, 25, 36, 49, 64, 81, 100]"
      ]
     },
     "execution_count": 1,
     "metadata": {},
     "output_type": "execute_result"
    }
   ],
   "source": [
    "# 1. Create a list containing squares of numbers from 1 to 10 (HINT: use List Comprehension).\n",
    "\n",
    "square = [x**2 for x in range(1,11)]\n",
    "square"
   ]
  },
  {
   "cell_type": "code",
   "execution_count": 2,
   "id": "c947530d",
   "metadata": {},
   "outputs": [],
   "source": [
    "# 2. Write a Function to check if year number is a leap year.\n",
    "\n",
    "def is_leap_year(year):\n",
    "    if year % 4 == 0:\n",
    "        if year % 100 == 0:\n",
    "            if year % 400 == 0:\n",
    "                print(\"Leap year\")\n",
    "            else:\n",
    "                print(\"Not leap year\")\n",
    "        else:\n",
    "            print(\"Leap year\")\n",
    "    else:\n",
    "        print(\"Not leap year\")"
   ]
  },
  {
   "cell_type": "code",
   "execution_count": 3,
   "id": "48284317",
   "metadata": {},
   "outputs": [
    {
     "name": "stdout",
     "output_type": "stream",
     "text": [
      "Not leap year\n"
     ]
    }
   ],
   "source": [
    "is_leap_year(2226)"
   ]
  },
  {
   "cell_type": "code",
   "execution_count": 4,
   "id": "7bf90794",
   "metadata": {},
   "outputs": [],
   "source": [
    "# 3. Write a Function to take an array and return another array that \n",
    "# contains the members of first array that are even.\n",
    "\n",
    "import numpy as np\n",
    "def even_array_generator(array):\n",
    "    even_array = []\n",
    "    for i in array:\n",
    "        if i % 2 == 0:\n",
    "            even_array.append(i)\n",
    "        x = np.array(even_array)\n",
    "    return x"
   ]
  },
  {
   "cell_type": "code",
   "execution_count": 5,
   "id": "98751f45",
   "metadata": {},
   "outputs": [
    {
     "name": "stdout",
     "output_type": "stream",
     "text": [
      "[ 0  1  2  3  4  5  6  7  8  9 10]\n"
     ]
    },
    {
     "data": {
      "text/plain": [
       "array([ 0,  2,  4,  6,  8, 10])"
      ]
     },
     "execution_count": 5,
     "metadata": {},
     "output_type": "execute_result"
    }
   ],
   "source": [
    "list1 = np.array([x for x in range(11)])\n",
    "print(list1)\n",
    "even_array_generator(list1)"
   ]
  },
  {
   "cell_type": "code",
   "execution_count": 6,
   "id": "e18b1863",
   "metadata": {},
   "outputs": [],
   "source": [
    "# 4. Write a Function that takes 2 arrays and prints the members of first array \n",
    "# that are present of second array. (HINT: use Membership Comprehension)\n",
    "\n",
    "def finding_elements(arr1, arr2):\n",
    "    for i in arr1:\n",
    "        if i in arr2:\n",
    "            print(i)"
   ]
  },
  {
   "cell_type": "code",
   "execution_count": 8,
   "id": "2acc4a5f",
   "metadata": {},
   "outputs": [
    {
     "name": "stdout",
     "output_type": "stream",
     "text": [
      "[ 0  1  2  3  4  5  6  7  8  9 10]\n",
      "[ 0  2  4  6  8 10 12 14 16 18 20]\n",
      "0\n",
      "2\n",
      "4\n",
      "6\n",
      "8\n",
      "10\n"
     ]
    }
   ],
   "source": [
    "arr3 = np.array([i for i in range(11)])\n",
    "arr4 = arr3*2\n",
    "print(arr3)\n",
    "print(arr4)\n",
    "finding_elements(arr3, arr4)"
   ]
  },
  {
   "cell_type": "code",
   "execution_count": null,
   "id": "16c8e75d",
   "metadata": {},
   "outputs": [],
   "source": []
  }
 ],
 "metadata": {
  "kernelspec": {
   "display_name": "Python 3",
   "language": "python",
   "name": "python3"
  },
  "language_info": {
   "codemirror_mode": {
    "name": "ipython",
    "version": 3
   },
   "file_extension": ".py",
   "mimetype": "text/x-python",
   "name": "python",
   "nbconvert_exporter": "python",
   "pygments_lexer": "ipython3",
   "version": "3.8.8"
  }
 },
 "nbformat": 4,
 "nbformat_minor": 5
}

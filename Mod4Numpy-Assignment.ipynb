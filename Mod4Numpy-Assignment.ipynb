{
 "cells": [
  {
   "cell_type": "code",
   "execution_count": 1,
   "id": "7fe7cdf9",
   "metadata": {},
   "outputs": [],
   "source": [
    "import numpy as np\n",
    "import random"
   ]
  },
  {
   "cell_type": "code",
   "execution_count": 2,
   "id": "5955756a",
   "metadata": {},
   "outputs": [
    {
     "data": {
      "text/plain": [
       "array([[ 2,  3,  4],\n",
       "       [ 5,  6,  7],\n",
       "       [ 8,  9, 10]])"
      ]
     },
     "execution_count": 2,
     "metadata": {},
     "output_type": "execute_result"
    }
   ],
   "source": [
    "# 1. Create a 3x3 matrix array with values ranging from 2 to 10\n",
    "\n",
    "a = np.arange(2,11).reshape(3,3)\n",
    "a"
   ]
  },
  {
   "cell_type": "code",
   "execution_count": 3,
   "id": "ade2c3a1",
   "metadata": {},
   "outputs": [
    {
     "name": "stdout",
     "output_type": "stream",
     "text": [
      "Enter the number of elements in array 4\n",
      "Enter the elements of array 1\n",
      "Enter the elements of array 2\n",
      "Enter the elements of array 3\n",
      "Enter the elements of array 4\n",
      "Int to float elements: [1. 2. 3. 4.]\n"
     ]
    }
   ],
   "source": [
    "# 2. Create a numpy array having user input values and convert the integer type to the float type \n",
    "# of the elements of the array. \n",
    "\n",
    "n = int(input('Enter the number of elements in array '))\n",
    "list1 = []\n",
    "for i in range(n):\n",
    "    ele = int(input('Enter the elements of array '))\n",
    "    list1.append(ele)\n",
    "arr1 = np.array(list1, dtype = float)\n",
    "print('Int to float elements:', arr1)\n",
    "\n"
   ]
  },
  {
   "cell_type": "code",
   "execution_count": 4,
   "id": "121f4fb4",
   "metadata": {},
   "outputs": [
    {
     "name": "stdout",
     "output_type": "stream",
     "text": [
      "The input array: [10 20 30]\n",
      "The append values: [40, 50, 60, 70, 80, 90]\n",
      "The new array: [10 20 30 40 50 60 70 80 90]\n"
     ]
    }
   ],
   "source": [
    "# 3. Write a Numpy program to append values to the end of an array.\n",
    "\n",
    "def append_array_value(array, value):\n",
    "    print('The input array:',array)\n",
    "    print('The append values:',value)\n",
    "    arr = np.append(array, value)\n",
    "    print('The new array:',arr)\n",
    "arr1 = np.array([10,20,30])\n",
    "append_array_value(arr1, [40,50,60,70,80,90])"
   ]
  },
  {
   "cell_type": "code",
   "execution_count": 5,
   "id": "4e2cf066",
   "metadata": {},
   "outputs": [
    {
     "name": "stdout",
     "output_type": "stream",
     "text": [
      "First Array: [0 1 2 3 4 5 6 7 8 9]\n",
      "Second Array: [ 0  2  4  6  8 10 12 14 16 18]\n"
     ]
    },
    {
     "data": {
      "text/plain": [
       "array([ 0,  3,  6,  9, 12, 15, 18, 21, 24, 27])"
      ]
     },
     "execution_count": 5,
     "metadata": {},
     "output_type": "execute_result"
    }
   ],
   "source": [
    "# 4. Create two numpy arrays and add the elements of both the arrays and store the result in sumArray\n",
    "\n",
    "arr1 = np.array([i for i in range(10)])\n",
    "arr2 = arr1*2\n",
    "print('First Array:',arr1)\n",
    "print('Second Array:',arr2)\n",
    "sumArray = np.sum([arr1, arr2], axis = 0)\n",
    "sumArray"
   ]
  },
  {
   "cell_type": "code",
   "execution_count": 6,
   "id": "e09a07a3",
   "metadata": {},
   "outputs": [
    {
     "name": "stdout",
     "output_type": "stream",
     "text": [
      "[[10 20 30]\n",
      " [40 50 60]\n",
      " [70 80 90]]\n",
      "The 1st row of the array is [10 20 30]\n",
      "The last elements of array is 90\n"
     ]
    }
   ],
   "source": [
    "# 5. Create a 3*3 array having values from 10-90(interval of 10) and store that in array1. Perform \n",
    "# the following tasks:\n",
    "array1 = np.arange(10,91,10).reshape(3,3)\n",
    "print(array1)\n",
    "# a. Extract the 1st row from the array.\n",
    "print('The 1st row of the array is',array1[0])\n",
    "# b. Extract the last element from the array\n",
    "print('The last elements of array is',array1[2,2])"
   ]
  },
  {
   "cell_type": "code",
   "execution_count": null,
   "id": "e2931ca8",
   "metadata": {},
   "outputs": [],
   "source": []
  }
 ],
 "metadata": {
  "kernelspec": {
   "display_name": "Python 3",
   "language": "python",
   "name": "python3"
  },
  "language_info": {
   "codemirror_mode": {
    "name": "ipython",
    "version": 3
   },
   "file_extension": ".py",
   "mimetype": "text/x-python",
   "name": "python",
   "nbconvert_exporter": "python",
   "pygments_lexer": "ipython3",
   "version": "3.8.8"
  }
 },
 "nbformat": 4,
 "nbformat_minor": 5
}
